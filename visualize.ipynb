{
 "cells": [
  {
   "cell_type": "code",
   "execution_count": null,
   "id": "b8305e42-e637-47e6-ad53-c81f20b8be50",
   "metadata": {},
   "outputs": [],
   "source": [
    "import os\n",
    "import hashlib\n",
    "import base64\n",
    "import numpy as np\n",
    "from dotenv import load_dotenv\n",
    "from pinecone.grpc import PineconeGRPC as Pinecone\n",
    "from nomic import atlas\n",
    "import nomic\n",
    "\n",
    "# Load environment variables from the .env file\n",
    "load_dotenv()\n",
    "\n",
    "# Retrieve API keys from environment variables\n",
    "PINECONE_API_KEY = os.getenv('PINECONE_API_KEY')\n",
    "NOMIC_API_KEY = os.getenv('NOMIC_API_KEY')\n",
    "INDEX_NAME_KEY = os.getenv('INDEX_NAME_KEY')\n",
    "\n",
    "# Initialize Pinecone and Nomic clients\n",
    "pc = Pinecone(api_key=PINECONE_API_KEY)\n",
    "nomic.login(NOMIC_API_KEY)\n",
    "index = pc.Index(INDEX_NAME_KEY)\n",
    "\n",
    "# Fetch all vector IDs from the index\n",
    "vectors_ids = list(index.list())\n",
    "\n",
    "# Flatten the list of vector IDs\n",
    "flatten_list = [id for _list_ in vectors_ids for id in _list_]\n",
    "\n",
    "# Chunk the flattened list into groups of 20 IDs\n",
    "id_list = [flatten_list[i:i+20] for i in range(0, len(flatten_list), 20)]\n",
    "\n",
    "# Fetch vectors for all IDs\n",
    "vectors = index.fetch(ids=flatten_list)\n",
    "\n",
    "def compress_string(original_string):\n",
    "    \"\"\"Compress a string using SHA-256 hashing and base64 encoding.\"\"\"\n",
    "    sha256_hash = hashlib.sha256(original_string.encode()).digest()\n",
    "    compressed_string = base64.urlsafe_b64encode(sha256_hash).decode()[:36]\n",
    "    return compressed_string\n",
    "\n",
    "# Create a lookup table for compressed IDs\n",
    "lookup_table = {}\n",
    "\n",
    "ids = []\n",
    "embeddings = []\n",
    "for id, vector in vectors['vectors'].items():\n",
    "    compressed_string = compress_string(id)\n",
    "    lookup_table[compressed_string] = id\n",
    "    print(f\"Compressed String: {compressed_string}, id: {id}\")  # For Mapping\n",
    "    ids.append(compressed_string)\n",
    "    embeddings.append(vector['values'])\n",
    "\n",
    "# Convert embeddings to numpy array\n",
    "embeddings = np.array(embeddings)\n",
    "\n",
    "# Map data to Atlas\n",
    "atlas.map_data(embeddings=embeddings, data=[{'id': id} for id in ids], id_field='id')"
   ]
  },
  {
   "cell_type": "code",
   "execution_count": null,
   "id": "6dccf700-5d2c-4c5e-96c8-ff3926c9a80b",
   "metadata": {},
   "outputs": [],
   "source": []
  }
 ],
 "metadata": {
  "kernelspec": {
   "display_name": "Python 3",
   "language": "python",
   "name": "python3"
  },
  "language_info": {
   "codemirror_mode": {
    "name": "ipython",
    "version": 3
   },
   "file_extension": ".py",
   "mimetype": "text/x-python",
   "name": "python",
   "nbconvert_exporter": "python",
   "pygments_lexer": "ipython3",
   "version": "3.12.4"
  },
  "vscode": {
   "interpreter": {
    "hash": "f1062708a37074d70712b695aadee582e0b0b9f95f45576b5521424137d05fec"
   }
  }
 },
 "nbformat": 4,
 "nbformat_minor": 5
}
